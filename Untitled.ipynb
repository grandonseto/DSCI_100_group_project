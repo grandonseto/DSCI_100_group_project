{
 "cells": [
  {
   "cell_type": "code",
   "execution_count": 1,
   "metadata": {},
   "outputs": [
    {
     "name": "stderr",
     "output_type": "stream",
     "text": [
      "Loading tidyverse: ggplot2\n",
      "Loading tidyverse: tibble\n",
      "Loading tidyverse: tidyr\n",
      "Loading tidyverse: readr\n",
      "Loading tidyverse: purrr\n",
      "Loading tidyverse: dplyr\n",
      "Conflicts with tidy packages ---------------------------------------------------\n",
      "filter(): dplyr, stats\n",
      "lag():    dplyr, stats\n",
      "Loading required package: lattice\n",
      "\n",
      "Attaching package: ‘caret’\n",
      "\n",
      "The following object is masked from ‘package:purrr’:\n",
      "\n",
      "    lift\n",
      "\n"
     ]
    }
   ],
   "source": [
    "library(tidyverse)\n",
    "library(caret)"
   ]
  },
  {
   "cell_type": "code",
   "execution_count": 2,
   "metadata": {},
   "outputs": [
    {
     "name": "stderr",
     "output_type": "stream",
     "text": [
      "Using ',' as decimal and '.' as grouping mark. Use read_delim() for more control.\n",
      "Parsed with column specification:\n",
      "cols(\n",
      "  .default = col_character(),\n",
      "  age = col_integer(),\n",
      "  Medu = col_integer(),\n",
      "  Fedu = col_integer(),\n",
      "  traveltime = col_integer(),\n",
      "  studytime = col_integer(),\n",
      "  failures = col_integer(),\n",
      "  famrel = col_integer(),\n",
      "  freetime = col_integer(),\n",
      "  goout = col_integer(),\n",
      "  Dalc = col_integer(),\n",
      "  Walc = col_integer(),\n",
      "  health = col_integer(),\n",
      "  absences = col_integer(),\n",
      "  G1 = col_integer(),\n",
      "  G2 = col_integer(),\n",
      "  G3 = col_integer()\n",
      ")\n",
      "See spec(...) for full column specifications.\n"
     ]
    },
    {
     "data": {
      "text/html": [
       "<table>\n",
       "<thead><tr><th scope=col>school</th><th scope=col>sex</th><th scope=col>age</th><th scope=col>address</th><th scope=col>famsize</th><th scope=col>Pstatus</th><th scope=col>Medu</th><th scope=col>Fedu</th><th scope=col>Mjob</th><th scope=col>Fjob</th><th scope=col>⋯</th><th scope=col>famrel</th><th scope=col>freetime</th><th scope=col>goout</th><th scope=col>Dalc</th><th scope=col>Walc</th><th scope=col>health</th><th scope=col>absences</th><th scope=col>G1</th><th scope=col>G2</th><th scope=col>G3</th></tr></thead>\n",
       "<tbody>\n",
       "\t<tr><td>GP      </td><td>F       </td><td>18      </td><td>U       </td><td>GT3     </td><td>A       </td><td>4       </td><td>4       </td><td>at_home </td><td>teacher </td><td>⋯       </td><td>4       </td><td>3       </td><td>4       </td><td>1       </td><td>1       </td><td>3       </td><td> 6      </td><td> 5      </td><td> 6      </td><td> 6      </td></tr>\n",
       "\t<tr><td>GP      </td><td>F       </td><td>17      </td><td>U       </td><td>GT3     </td><td>T       </td><td>1       </td><td>1       </td><td>at_home </td><td>other   </td><td>⋯       </td><td>5       </td><td>3       </td><td>3       </td><td>1       </td><td>1       </td><td>3       </td><td> 4      </td><td> 5      </td><td> 5      </td><td> 6      </td></tr>\n",
       "\t<tr><td>GP      </td><td>F       </td><td>15      </td><td>U       </td><td>LE3     </td><td>T       </td><td>1       </td><td>1       </td><td>at_home </td><td>other   </td><td>⋯       </td><td>4       </td><td>3       </td><td>2       </td><td>2       </td><td>3       </td><td>3       </td><td>10      </td><td> 7      </td><td> 8      </td><td>10      </td></tr>\n",
       "\t<tr><td>GP      </td><td>F       </td><td>15      </td><td>U       </td><td>GT3     </td><td>T       </td><td>4       </td><td>2       </td><td>health  </td><td>services</td><td>⋯       </td><td>3       </td><td>2       </td><td>2       </td><td>1       </td><td>1       </td><td>5       </td><td> 2      </td><td>15      </td><td>14      </td><td>15      </td></tr>\n",
       "\t<tr><td>GP      </td><td>F       </td><td>16      </td><td>U       </td><td>GT3     </td><td>T       </td><td>3       </td><td>3       </td><td>other   </td><td>other   </td><td>⋯       </td><td>4       </td><td>3       </td><td>2       </td><td>1       </td><td>2       </td><td>5       </td><td> 4      </td><td> 6      </td><td>10      </td><td>10      </td></tr>\n",
       "\t<tr><td>GP      </td><td>M       </td><td>16      </td><td>U       </td><td>LE3     </td><td>T       </td><td>4       </td><td>3       </td><td>services</td><td>other   </td><td>⋯       </td><td>5       </td><td>4       </td><td>2       </td><td>1       </td><td>2       </td><td>5       </td><td>10      </td><td>15      </td><td>15      </td><td>15      </td></tr>\n",
       "</tbody>\n",
       "</table>\n"
      ],
      "text/latex": [
       "\\begin{tabular}{r|lllllllllllllllllllllllllllllllll}\n",
       " school & sex & age & address & famsize & Pstatus & Medu & Fedu & Mjob & Fjob & ⋯ & famrel & freetime & goout & Dalc & Walc & health & absences & G1 & G2 & G3\\\\\n",
       "\\hline\n",
       "\t GP         & F          & 18         & U          & GT3        & A          & 4          & 4          & at\\_home  & teacher    & ⋯          & 4          & 3          & 4          & 1          & 1          & 3          &  6         &  5         &  6         &  6        \\\\\n",
       "\t GP         & F          & 17         & U          & GT3        & T          & 1          & 1          & at\\_home  & other      & ⋯          & 5          & 3          & 3          & 1          & 1          & 3          &  4         &  5         &  5         &  6        \\\\\n",
       "\t GP         & F          & 15         & U          & LE3        & T          & 1          & 1          & at\\_home  & other      & ⋯          & 4          & 3          & 2          & 2          & 3          & 3          & 10         &  7         &  8         & 10        \\\\\n",
       "\t GP       & F        & 15       & U        & GT3      & T        & 4        & 2        & health   & services & ⋯        & 3        & 2        & 2        & 1        & 1        & 5        &  2       & 15       & 14       & 15      \\\\\n",
       "\t GP       & F        & 16       & U        & GT3      & T        & 3        & 3        & other    & other    & ⋯        & 4        & 3        & 2        & 1        & 2        & 5        &  4       &  6       & 10       & 10      \\\\\n",
       "\t GP       & M        & 16       & U        & LE3      & T        & 4        & 3        & services & other    & ⋯        & 5        & 4        & 2        & 1        & 2        & 5        & 10       & 15       & 15       & 15      \\\\\n",
       "\\end{tabular}\n"
      ],
      "text/markdown": [
       "\n",
       "school | sex | age | address | famsize | Pstatus | Medu | Fedu | Mjob | Fjob | ⋯ | famrel | freetime | goout | Dalc | Walc | health | absences | G1 | G2 | G3 | \n",
       "|---|---|---|---|---|---|\n",
       "| GP       | F        | 18       | U        | GT3      | A        | 4        | 4        | at_home  | teacher  | ⋯        | 4        | 3        | 4        | 1        | 1        | 3        |  6       |  5       |  6       |  6       | \n",
       "| GP       | F        | 17       | U        | GT3      | T        | 1        | 1        | at_home  | other    | ⋯        | 5        | 3        | 3        | 1        | 1        | 3        |  4       |  5       |  5       |  6       | \n",
       "| GP       | F        | 15       | U        | LE3      | T        | 1        | 1        | at_home  | other    | ⋯        | 4        | 3        | 2        | 2        | 3        | 3        | 10       |  7       |  8       | 10       | \n",
       "| GP       | F        | 15       | U        | GT3      | T        | 4        | 2        | health   | services | ⋯        | 3        | 2        | 2        | 1        | 1        | 5        |  2       | 15       | 14       | 15       | \n",
       "| GP       | F        | 16       | U        | GT3      | T        | 3        | 3        | other    | other    | ⋯        | 4        | 3        | 2        | 1        | 2        | 5        |  4       |  6       | 10       | 10       | \n",
       "| GP       | M        | 16       | U        | LE3      | T        | 4        | 3        | services | other    | ⋯        | 5        | 4        | 2        | 1        | 2        | 5        | 10       | 15       | 15       | 15       | \n",
       "\n",
       "\n"
      ],
      "text/plain": [
       "  school sex age address famsize Pstatus Medu Fedu Mjob     Fjob     ⋯ famrel\n",
       "1 GP     F   18  U       GT3     A       4    4    at_home  teacher  ⋯ 4     \n",
       "2 GP     F   17  U       GT3     T       1    1    at_home  other    ⋯ 5     \n",
       "3 GP     F   15  U       LE3     T       1    1    at_home  other    ⋯ 4     \n",
       "4 GP     F   15  U       GT3     T       4    2    health   services ⋯ 3     \n",
       "5 GP     F   16  U       GT3     T       3    3    other    other    ⋯ 4     \n",
       "6 GP     M   16  U       LE3     T       4    3    services other    ⋯ 5     \n",
       "  freetime goout Dalc Walc health absences G1 G2 G3\n",
       "1 3        4     1    1    3       6        5  6  6\n",
       "2 3        3     1    1    3       4        5  5  6\n",
       "3 3        2     2    3    3      10        7  8 10\n",
       "4 2        2     1    1    5       2       15 14 15\n",
       "5 3        2     1    2    5       4        6 10 10\n",
       "6 4        2     1    2    5      10       15 15 15"
      ]
     },
     "metadata": {},
     "output_type": "display_data"
    }
   ],
   "source": [
    "student_data <- read_csv2(\"student-mat.csv\")\n",
    "head(student_data)"
   ]
  },
  {
   "cell_type": "code",
   "execution_count": 3,
   "metadata": {},
   "outputs": [
    {
     "data": {
      "text/html": [
       "<table>\n",
       "<thead><tr><th scope=col>school</th><th scope=col>sex</th><th scope=col>age</th><th scope=col>address</th><th scope=col>famsize</th><th scope=col>Pstatus</th><th scope=col>Medu</th><th scope=col>Fedu</th><th scope=col>Mjob</th><th scope=col>Fjob</th><th scope=col>⋯</th><th scope=col>famrel</th><th scope=col>freetime</th><th scope=col>goout</th><th scope=col>Dalc</th><th scope=col>Walc</th><th scope=col>health</th><th scope=col>absences</th><th scope=col>G1</th><th scope=col>G2</th><th scope=col>G3</th></tr></thead>\n",
       "<tbody>\n",
       "\t<tr><td>GP      </td><td>F       </td><td>18      </td><td>U       </td><td>GT3     </td><td>A       </td><td>4       </td><td>4       </td><td>at_home </td><td>teacher </td><td>⋯       </td><td>4       </td><td>3       </td><td>4       </td><td>1       </td><td>1       </td><td>3       </td><td> 6      </td><td> 5      </td><td> 6      </td><td> 6      </td></tr>\n",
       "\t<tr><td>GP      </td><td>F       </td><td>17      </td><td>U       </td><td>GT3     </td><td>T       </td><td>1       </td><td>1       </td><td>at_home </td><td>other   </td><td>⋯       </td><td>5       </td><td>3       </td><td>3       </td><td>1       </td><td>1       </td><td>3       </td><td> 4      </td><td> 5      </td><td> 5      </td><td> 6      </td></tr>\n",
       "\t<tr><td>GP      </td><td>F       </td><td>15      </td><td>U       </td><td>LE3     </td><td>T       </td><td>1       </td><td>1       </td><td>at_home </td><td>other   </td><td>⋯       </td><td>4       </td><td>3       </td><td>2       </td><td>2       </td><td>3       </td><td>3       </td><td>10      </td><td> 7      </td><td> 8      </td><td>10      </td></tr>\n",
       "\t<tr><td>GP      </td><td>F       </td><td>15      </td><td>U       </td><td>GT3     </td><td>T       </td><td>4       </td><td>2       </td><td>health  </td><td>services</td><td>⋯       </td><td>3       </td><td>2       </td><td>2       </td><td>1       </td><td>1       </td><td>5       </td><td> 2      </td><td>15      </td><td>14      </td><td>15      </td></tr>\n",
       "\t<tr><td>GP      </td><td>F       </td><td>16      </td><td>U       </td><td>GT3     </td><td>T       </td><td>3       </td><td>3       </td><td>other   </td><td>other   </td><td>⋯       </td><td>4       </td><td>3       </td><td>2       </td><td>1       </td><td>2       </td><td>5       </td><td> 4      </td><td> 6      </td><td>10      </td><td>10      </td></tr>\n",
       "\t<tr><td>GP      </td><td>M       </td><td>16      </td><td>U       </td><td>LE3     </td><td>T       </td><td>4       </td><td>3       </td><td>services</td><td>other   </td><td>⋯       </td><td>5       </td><td>4       </td><td>2       </td><td>1       </td><td>2       </td><td>5       </td><td>10      </td><td>15      </td><td>15      </td><td>15      </td></tr>\n",
       "</tbody>\n",
       "</table>\n"
      ],
      "text/latex": [
       "\\begin{tabular}{r|lllllllllllllllllllllllllllllllll}\n",
       " school & sex & age & address & famsize & Pstatus & Medu & Fedu & Mjob & Fjob & ⋯ & famrel & freetime & goout & Dalc & Walc & health & absences & G1 & G2 & G3\\\\\n",
       "\\hline\n",
       "\t GP         & F          & 18         & U          & GT3        & A          & 4          & 4          & at\\_home  & teacher    & ⋯          & 4          & 3          & 4          & 1          & 1          & 3          &  6         &  5         &  6         &  6        \\\\\n",
       "\t GP         & F          & 17         & U          & GT3        & T          & 1          & 1          & at\\_home  & other      & ⋯          & 5          & 3          & 3          & 1          & 1          & 3          &  4         &  5         &  5         &  6        \\\\\n",
       "\t GP         & F          & 15         & U          & LE3        & T          & 1          & 1          & at\\_home  & other      & ⋯          & 4          & 3          & 2          & 2          & 3          & 3          & 10         &  7         &  8         & 10        \\\\\n",
       "\t GP       & F        & 15       & U        & GT3      & T        & 4        & 2        & health   & services & ⋯        & 3        & 2        & 2        & 1        & 1        & 5        &  2       & 15       & 14       & 15      \\\\\n",
       "\t GP       & F        & 16       & U        & GT3      & T        & 3        & 3        & other    & other    & ⋯        & 4        & 3        & 2        & 1        & 2        & 5        &  4       &  6       & 10       & 10      \\\\\n",
       "\t GP       & M        & 16       & U        & LE3      & T        & 4        & 3        & services & other    & ⋯        & 5        & 4        & 2        & 1        & 2        & 5        & 10       & 15       & 15       & 15      \\\\\n",
       "\\end{tabular}\n"
      ],
      "text/markdown": [
       "\n",
       "school | sex | age | address | famsize | Pstatus | Medu | Fedu | Mjob | Fjob | ⋯ | famrel | freetime | goout | Dalc | Walc | health | absences | G1 | G2 | G3 | \n",
       "|---|---|---|---|---|---|\n",
       "| GP       | F        | 18       | U        | GT3      | A        | 4        | 4        | at_home  | teacher  | ⋯        | 4        | 3        | 4        | 1        | 1        | 3        |  6       |  5       |  6       |  6       | \n",
       "| GP       | F        | 17       | U        | GT3      | T        | 1        | 1        | at_home  | other    | ⋯        | 5        | 3        | 3        | 1        | 1        | 3        |  4       |  5       |  5       |  6       | \n",
       "| GP       | F        | 15       | U        | LE3      | T        | 1        | 1        | at_home  | other    | ⋯        | 4        | 3        | 2        | 2        | 3        | 3        | 10       |  7       |  8       | 10       | \n",
       "| GP       | F        | 15       | U        | GT3      | T        | 4        | 2        | health   | services | ⋯        | 3        | 2        | 2        | 1        | 1        | 5        |  2       | 15       | 14       | 15       | \n",
       "| GP       | F        | 16       | U        | GT3      | T        | 3        | 3        | other    | other    | ⋯        | 4        | 3        | 2        | 1        | 2        | 5        |  4       |  6       | 10       | 10       | \n",
       "| GP       | M        | 16       | U        | LE3      | T        | 4        | 3        | services | other    | ⋯        | 5        | 4        | 2        | 1        | 2        | 5        | 10       | 15       | 15       | 15       | \n",
       "\n",
       "\n"
      ],
      "text/plain": [
       "  school sex age address famsize Pstatus Medu Fedu Mjob     Fjob     ⋯ famrel\n",
       "1 GP     F   18  U       GT3     A       4    4    at_home  teacher  ⋯ 4     \n",
       "2 GP     F   17  U       GT3     T       1    1    at_home  other    ⋯ 5     \n",
       "3 GP     F   15  U       LE3     T       1    1    at_home  other    ⋯ 4     \n",
       "4 GP     F   15  U       GT3     T       4    2    health   services ⋯ 3     \n",
       "5 GP     F   16  U       GT3     T       3    3    other    other    ⋯ 4     \n",
       "6 GP     M   16  U       LE3     T       4    3    services other    ⋯ 5     \n",
       "  freetime goout Dalc Walc health absences G1 G2 G3\n",
       "1 3        4     1    1    3       6        5  6  6\n",
       "2 3        3     1    1    3       4        5  5  6\n",
       "3 3        2     2    3    3      10        7  8 10\n",
       "4 2        2     1    1    5       2       15 14 15\n",
       "5 3        2     1    2    5       4        6 10 10\n",
       "6 4        2     1    2    5      10       15 15 15"
      ]
     },
     "metadata": {},
     "output_type": "display_data"
    },
    {
     "data": {
      "text/html": [
       "<table>\n",
       "<thead><tr><th scope=col>schoolGP</th><th scope=col>schoolMS</th><th scope=col>sexF</th><th scope=col>sexM</th><th scope=col>age</th><th scope=col>addressR</th><th scope=col>addressU</th><th scope=col>famsizeGT3</th><th scope=col>famsizeLE3</th><th scope=col>PstatusA</th><th scope=col>⋯</th><th scope=col>famrel</th><th scope=col>freetime</th><th scope=col>goout</th><th scope=col>Dalc</th><th scope=col>Walc</th><th scope=col>health</th><th scope=col>absences</th><th scope=col>G1</th><th scope=col>G2</th><th scope=col>G3</th></tr></thead>\n",
       "<tbody>\n",
       "\t<tr><td>1 </td><td>0 </td><td>1 </td><td>0 </td><td>18</td><td>0 </td><td>1 </td><td>1 </td><td>0 </td><td>1 </td><td>⋯ </td><td>4 </td><td>3 </td><td>4 </td><td>1 </td><td>1 </td><td>3 </td><td> 6</td><td> 5</td><td> 6</td><td> 6</td></tr>\n",
       "\t<tr><td>1 </td><td>0 </td><td>1 </td><td>0 </td><td>17</td><td>0 </td><td>1 </td><td>1 </td><td>0 </td><td>0 </td><td>⋯ </td><td>5 </td><td>3 </td><td>3 </td><td>1 </td><td>1 </td><td>3 </td><td> 4</td><td> 5</td><td> 5</td><td> 6</td></tr>\n",
       "\t<tr><td>1 </td><td>0 </td><td>1 </td><td>0 </td><td>15</td><td>0 </td><td>1 </td><td>0 </td><td>1 </td><td>0 </td><td>⋯ </td><td>4 </td><td>3 </td><td>2 </td><td>2 </td><td>3 </td><td>3 </td><td>10</td><td> 7</td><td> 8</td><td>10</td></tr>\n",
       "\t<tr><td>1 </td><td>0 </td><td>1 </td><td>0 </td><td>15</td><td>0 </td><td>1 </td><td>1 </td><td>0 </td><td>0 </td><td>⋯ </td><td>3 </td><td>2 </td><td>2 </td><td>1 </td><td>1 </td><td>5 </td><td> 2</td><td>15</td><td>14</td><td>15</td></tr>\n",
       "\t<tr><td>1 </td><td>0 </td><td>1 </td><td>0 </td><td>16</td><td>0 </td><td>1 </td><td>1 </td><td>0 </td><td>0 </td><td>⋯ </td><td>4 </td><td>3 </td><td>2 </td><td>1 </td><td>2 </td><td>5 </td><td> 4</td><td> 6</td><td>10</td><td>10</td></tr>\n",
       "\t<tr><td>1 </td><td>0 </td><td>0 </td><td>1 </td><td>16</td><td>0 </td><td>1 </td><td>0 </td><td>1 </td><td>0 </td><td>⋯ </td><td>5 </td><td>4 </td><td>2 </td><td>1 </td><td>2 </td><td>5 </td><td>10</td><td>15</td><td>15</td><td>15</td></tr>\n",
       "</tbody>\n",
       "</table>\n"
      ],
      "text/latex": [
       "\\begin{tabular}{r|lllllllllllllllllllllllllllllllllllllllllllllllllllllllllll}\n",
       " schoolGP & schoolMS & sexF & sexM & age & addressR & addressU & famsizeGT3 & famsizeLE3 & PstatusA & ⋯ & famrel & freetime & goout & Dalc & Walc & health & absences & G1 & G2 & G3\\\\\n",
       "\\hline\n",
       "\t 1  & 0  & 1  & 0  & 18 & 0  & 1  & 1  & 0  & 1  & ⋯  & 4  & 3  & 4  & 1  & 1  & 3  &  6 &  5 &  6 &  6\\\\\n",
       "\t 1  & 0  & 1  & 0  & 17 & 0  & 1  & 1  & 0  & 0  & ⋯  & 5  & 3  & 3  & 1  & 1  & 3  &  4 &  5 &  5 &  6\\\\\n",
       "\t 1  & 0  & 1  & 0  & 15 & 0  & 1  & 0  & 1  & 0  & ⋯  & 4  & 3  & 2  & 2  & 3  & 3  & 10 &  7 &  8 & 10\\\\\n",
       "\t 1  & 0  & 1  & 0  & 15 & 0  & 1  & 1  & 0  & 0  & ⋯  & 3  & 2  & 2  & 1  & 1  & 5  &  2 & 15 & 14 & 15\\\\\n",
       "\t 1  & 0  & 1  & 0  & 16 & 0  & 1  & 1  & 0  & 0  & ⋯  & 4  & 3  & 2  & 1  & 2  & 5  &  4 &  6 & 10 & 10\\\\\n",
       "\t 1  & 0  & 0  & 1  & 16 & 0  & 1  & 0  & 1  & 0  & ⋯  & 5  & 4  & 2  & 1  & 2  & 5  & 10 & 15 & 15 & 15\\\\\n",
       "\\end{tabular}\n"
      ],
      "text/markdown": [
       "\n",
       "schoolGP | schoolMS | sexF | sexM | age | addressR | addressU | famsizeGT3 | famsizeLE3 | PstatusA | ⋯ | famrel | freetime | goout | Dalc | Walc | health | absences | G1 | G2 | G3 | \n",
       "|---|---|---|---|---|---|\n",
       "| 1  | 0  | 1  | 0  | 18 | 0  | 1  | 1  | 0  | 1  | ⋯  | 4  | 3  | 4  | 1  | 1  | 3  |  6 |  5 |  6 |  6 | \n",
       "| 1  | 0  | 1  | 0  | 17 | 0  | 1  | 1  | 0  | 0  | ⋯  | 5  | 3  | 3  | 1  | 1  | 3  |  4 |  5 |  5 |  6 | \n",
       "| 1  | 0  | 1  | 0  | 15 | 0  | 1  | 0  | 1  | 0  | ⋯  | 4  | 3  | 2  | 2  | 3  | 3  | 10 |  7 |  8 | 10 | \n",
       "| 1  | 0  | 1  | 0  | 15 | 0  | 1  | 1  | 0  | 0  | ⋯  | 3  | 2  | 2  | 1  | 1  | 5  |  2 | 15 | 14 | 15 | \n",
       "| 1  | 0  | 1  | 0  | 16 | 0  | 1  | 1  | 0  | 0  | ⋯  | 4  | 3  | 2  | 1  | 2  | 5  |  4 |  6 | 10 | 10 | \n",
       "| 1  | 0  | 0  | 1  | 16 | 0  | 1  | 0  | 1  | 0  | ⋯  | 5  | 4  | 2  | 1  | 2  | 5  | 10 | 15 | 15 | 15 | \n",
       "\n",
       "\n"
      ],
      "text/plain": [
       "  schoolGP schoolMS sexF sexM age addressR addressU famsizeGT3 famsizeLE3\n",
       "1 1        0        1    0    18  0        1        1          0         \n",
       "2 1        0        1    0    17  0        1        1          0         \n",
       "3 1        0        1    0    15  0        1        0          1         \n",
       "4 1        0        1    0    15  0        1        1          0         \n",
       "5 1        0        1    0    16  0        1        1          0         \n",
       "6 1        0        0    1    16  0        1        0          1         \n",
       "  PstatusA ⋯ famrel freetime goout Dalc Walc health absences G1 G2 G3\n",
       "1 1        ⋯ 4      3        4     1    1    3       6        5  6  6\n",
       "2 0        ⋯ 5      3        3     1    1    3       4        5  5  6\n",
       "3 0        ⋯ 4      3        2     2    3    3      10        7  8 10\n",
       "4 0        ⋯ 3      2        2     1    1    5       2       15 14 15\n",
       "5 0        ⋯ 4      3        2     1    2    5       4        6 10 10\n",
       "6 0        ⋯ 5      4        2     1    2    5      10       15 15 15"
      ]
     },
     "metadata": {},
     "output_type": "display_data"
    }
   ],
   "source": [
    "new_data <- data.frame(student_data)\n",
    "head(new_data)\n",
    "dummy <- dummyVars(\"~ .\", data = new_data)\n",
    "dummy_data <- data.frame(predict(dummy, newdata = new_data))\n",
    "head(dummy_data)"
   ]
  },
  {
   "cell_type": "code",
   "execution_count": null,
   "metadata": {},
   "outputs": [],
   "source": []
  }
 ],
 "metadata": {
  "kernelspec": {
   "display_name": "R",
   "language": "R",
   "name": "ir"
  },
  "language_info": {
   "codemirror_mode": "r",
   "file_extension": ".r",
   "mimetype": "text/x-r-source",
   "name": "R",
   "pygments_lexer": "r",
   "version": "3.4.1"
  }
 },
 "nbformat": 4,
 "nbformat_minor": 2
}
